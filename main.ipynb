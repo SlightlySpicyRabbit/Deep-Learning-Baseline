{
 "cells": [
  {
   "cell_type": "code",
   "execution_count": null,
   "metadata": {
    "ExecuteTime": {
     "end_time": "2024-04-16T08:19:50.452098900Z",
     "start_time": "2024-04-16T08:19:46.151861800Z"
    },
    "collapsed": true
   },
   "outputs": [],
   "source": [
    "import torch.utils.data\n",
    "import matplotlib.pyplot as plt\n",
    "from method.trainer import Trainer\n",
    "from method.evaluator import Evaluator"
   ]
  },
  {
   "cell_type": "markdown",
   "metadata": {
    "collapsed": false
   },
   "source": [
    "# LOAD DATA"
   ]
  },
  {
   "cell_type": "code",
   "execution_count": null,
   "metadata": {
    "ExecuteTime": {
     "end_time": "2024-04-16T08:19:51.205085100Z",
     "start_time": "2024-04-16T08:19:50.454095700Z"
    },
    "collapsed": false
   },
   "outputs": [],
   "source": [
    "\"\"\"\n",
    "Load your data here (Data needs to obey torch.utils.data.TensorDataset)\n",
    "For example:\n",
    "    your_training_set = torch.utils.data.TensorDataset(data_training, data_training_label)\n",
    "    your_validation_set = torch.utils.data.TensorDataset(data_validation, data_validation_label)\n",
    "    your_testing_set = torch.utils.data.TensorDataset(data_testing, data_testing_label)\n",
    "\"\"\""
   ]
  },
  {
   "cell_type": "markdown",
   "metadata": {
    "collapsed": false
   },
   "source": [
    "# CREATE MODEL"
   ]
  },
  {
   "cell_type": "code",
   "execution_count": null,
   "metadata": {
    "ExecuteTime": {
     "end_time": "2024-04-16T08:19:51.733199100Z",
     "start_time": "2024-04-16T08:19:51.206082400Z"
    },
    "collapsed": false
   },
   "outputs": [],
   "source": [
    "\"\"\"\n",
    "Create your model here (Model should be a class that inherits from nn.Module)\n",
    "It should be in a separate .py file in the folder 'method'\n",
    "For example:\n",
    "    have a file named 'SimpleNet.py' with class named 'SimpleNet'\n",
    "    from method.SimpleNet import SimpleNet\n",
    "    your_model = SimpleNet(param=)\n",
    "\"\"\""
   ]
  },
  {
   "cell_type": "markdown",
   "metadata": {
    "collapsed": false
   },
   "source": [
    "# TRAIN MODEL"
   ]
  },
  {
   "cell_type": "code",
   "execution_count": null,
   "metadata": {
    "ExecuteTime": {
     "end_time": "2024-04-16T08:20:57.749346800Z",
     "start_time": "2024-04-16T08:19:51.706271700Z"
    },
    "collapsed": false
   },
   "outputs": [],
   "source": [
    "# Training by Using SGD\n",
    "trainer = Trainer(model=your_model, batch_size=100, num_epoch=20, training_set=your_training_set, validation_set=your_validation_set, validate_step_size=1)\n",
    "loss_list_index_training, loss_list_value_training, loss_list_index_validation, loss_list_value_validation = trainer.sgd(learning_rate=0.01)"
   ]
  },
  {
   "cell_type": "code",
   "execution_count": null,
   "metadata": {},
   "outputs": [],
   "source": [
    "# Visualize the trend of loss values during training\n",
    "fig = plt.figure(figsize=(16,8))\n",
    "ax1 = fig.add_subplot(111)\n",
    "ax1.plot(loss_list_index_training, loss_list_value_training, color='tab:blue')\n",
    "# The next line should be removed if validation_set == None\n",
    "ax1.plot(loss_list_index_validation, loss_list_value_validation, color='tab:orange')\n",
    "plt.show()"
   ]
  },
  {
   "cell_type": "markdown",
   "metadata": {
    "collapsed": false
   },
   "source": [
    "# EVALUATE MODEL"
   ]
  },
  {
   "cell_type": "code",
   "execution_count": null,
   "metadata": {
    "collapsed": false
   },
   "outputs": [],
   "source": [
    "# Evaluate model on dataset\n",
    "evaluator = Evaluator(model=your_model, dataset=your_testing_set)\n",
    "# Shows the loss value of the model on the current dataset\n",
    "print(f'Loss value = {evaluator.get_loss()}')\n",
    "# Shows the accuracy of the model on the current dataset\n",
    "print(f'Accuracy = {evaluator.get_accuracy()}')\n",
    "# Shows the predict result and true result\n",
    "label_pred_list, label_true_list = evaluator.get_result()\n",
    "print(f'Pred labels = {label_pred_list}')\n",
    "print(f'True labels = {label_pred_list}')\n",
    "# Plot confusion matrix\n",
    "evaluator.plot_confusion_matrix()"
   ]
  }
 ],
 "metadata": {
  "kernelspec": {
   "display_name": "Python 3",
   "language": "python",
   "name": "python3"
  },
  "language_info": {
   "codemirror_mode": {
    "name": "ipython",
    "version": 3
   },
   "file_extension": ".py",
   "mimetype": "text/x-python",
   "name": "python",
   "nbconvert_exporter": "python",
   "pygments_lexer": "ipython3",
   "version": "3.10.11"
  }
 },
 "nbformat": 4,
 "nbformat_minor": 0
}
