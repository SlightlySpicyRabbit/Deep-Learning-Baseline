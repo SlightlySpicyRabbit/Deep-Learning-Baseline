{
 "cells": [
  {
   "cell_type": "code",
   "execution_count": null,
   "metadata": {
    "ExecuteTime": {
     "end_time": "2024-04-16T08:19:50.452098900Z",
     "start_time": "2024-04-16T08:19:46.151861800Z"
    },
    "collapsed": true
   },
   "outputs": [],
   "source": [
    "import torch\n",
    "import torch.utils.data\n",
    "import pickle\n",
    "import matplotlib.pyplot as plt\n",
    "from method.Inception_resnet_v1 import Inception_ResNet_v1\n",
    "from method.Trainer import Trainer\n",
    "from method.Evaluator import Evaluator\n",
    "from method.Plotter import plot_confusion_matrix, plot_true_predict"
   ]
  },
  {
   "cell_type": "markdown",
   "metadata": {
    "collapsed": false
   },
   "source": [
    "# LOAD DATA"
   ]
  },
  {
   "cell_type": "code",
   "execution_count": null,
   "metadata": {
    "ExecuteTime": {
     "end_time": "2024-04-16T08:19:51.205085100Z",
     "start_time": "2024-04-16T08:19:50.454095700Z"
    },
    "collapsed": false
   },
   "outputs": [],
   "source": []
  },
  {
   "cell_type": "markdown",
   "metadata": {
    "collapsed": false
   },
   "source": [
    "# CREATE MODEL"
   ]
  },
  {
   "cell_type": "code",
   "execution_count": null,
   "metadata": {
    "ExecuteTime": {
     "end_time": "2024-04-16T08:19:51.733199100Z",
     "start_time": "2024-04-16T08:19:51.206082400Z"
    },
    "collapsed": false
   },
   "outputs": [],
   "source": [
    "model = \n",
    "if torch.cuda.is_available():\n",
    "    print('cuda activated')\n",
    "    model = model.cuda()\n",
    "else:\n",
    "    print('cuda not activated')"
   ]
  },
  {
   "cell_type": "markdown",
   "metadata": {
    "collapsed": false
   },
   "source": [
    "# TRAIN MODEL"
   ]
  },
  {
   "cell_type": "code",
   "execution_count": null,
   "metadata": {
    "ExecuteTime": {
     "end_time": "2024-04-16T08:20:57.749346800Z",
     "start_time": "2024-04-16T08:19:51.706271700Z"
    },
    "collapsed": false
   },
   "outputs": [],
   "source": [
    "# Training by Using SGD\n",
    "trainer = Trainer(\n",
    "    model=model,\n",
    "    batch_size=100,\n",
    "    num_epoch=20,\n",
    "    training_set=,\n",
    "    validation_set=,\n",
    "    verify_step_size=1,\n",
    ")\n",
    "(\n",
    "    loss_list_index_training,\n",
    "    loss_list_value_training,\n",
    "    loss_list_index_validation,\n",
    "    loss_list_value_validation,\n",
    ") = trainer.sgd(learning_rate=0.01)\n",
    "\n"
   ]
  },
  {
   "cell_type": "code",
   "execution_count": null,
   "metadata": {},
   "outputs": [],
   "source": [
    "fig = plt.figure(figsize=(16,8))\n",
    "ax1 = fig.add_subplot(111)\n",
    "ax1.plot(loss_list_index_training, loss_list_value_training, color='tab:blue')\n",
    "ax1.plot(loss_list_index_validation, loss_list_value_validation, color='tab:orange')\n",
    "plt.show()"
   ]
  },
  {
   "cell_type": "markdown",
   "metadata": {
    "collapsed": false
   },
   "source": [
    "# EVALUATE MODEL"
   ]
  },
  {
   "cell_type": "raw",
   "metadata": {
    "collapsed": false
   },
   "source": []
  }
 ],
 "metadata": {
  "kernelspec": {
   "display_name": "Python 3",
   "language": "python",
   "name": "python3"
  },
  "language_info": {
   "codemirror_mode": {
    "name": "ipython",
    "version": 3
   },
   "file_extension": ".py",
   "mimetype": "text/x-python",
   "name": "python",
   "nbconvert_exporter": "python",
   "pygments_lexer": "ipython3",
   "version": "3.10.11"
  }
 },
 "nbformat": 4,
 "nbformat_minor": 0
}
